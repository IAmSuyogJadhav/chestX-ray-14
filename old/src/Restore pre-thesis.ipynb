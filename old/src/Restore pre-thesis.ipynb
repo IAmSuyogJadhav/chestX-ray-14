{
 "cells": [
  {
   "cell_type": "code",
   "execution_count": 1,
   "metadata": {},
   "outputs": [],
   "source": [
    "%matplotlib inline\n",
    "%reload_ext autoreload\n",
    "%autoreload 2"
   ]
  },
  {
   "cell_type": "code",
   "execution_count": 2,
   "metadata": {},
   "outputs": [],
   "source": [
    "import torch\n",
    "import pretrainedmodels\n",
    "from pathlib import Path\n",
    "from models import densenet\n",
    "from collections import OrderedDict\n",
    "import re\n",
    "import os\n",
    "import sys"
   ]
  },
  {
   "cell_type": "code",
   "execution_count": 3,
   "metadata": {},
   "outputs": [],
   "source": [
    "MODEL_PATH = Path('/mnt/data/xray-thesis/models/densenet/densenet121')\n",
    "MODEL_DIR = '20180530-221922'\n",
    "MODEL_NAME = 'model.path.tar'"
   ]
  },
  {
   "cell_type": "markdown",
   "metadata": {},
   "source": [
    "## Fix `features.denseblock1.denselayer1.norm.1.weight` to `features.denseblock1.denselayer1.norm1.weight`"
   ]
  },
  {
   "cell_type": "code",
   "execution_count": 14,
   "metadata": {},
   "outputs": [],
   "source": [
    "def modify_state_dict(state_dict):\n",
    "    pattern = re.compile(\n",
    "                r'^(.*denselayer\\d+\\.(?:norm|relu|conv))\\.((?:[12])\\.(?:weight|bias|running_mean|running_var))$')\n",
    "    state_dict = checkpoint['state_dict']\n",
    "    for key in list(state_dict.keys()):\n",
    "        res = pattern.match(key)\n",
    "        if res:\n",
    "            new_key = res.group(1) + res.group(2)\n",
    "            state_dict[new_key] = state_dict[key]\n",
    "            del state_dict[key]"
   ]
  },
  {
   "cell_type": "code",
   "execution_count": 32,
   "metadata": {},
   "outputs": [
    {
     "name": "stdout",
     "output_type": "stream",
     "text": [
      "/mnt/data/xray-thesis/models/densenet/densenet121/20180526-063242\n",
      "/mnt/data/xray-thesis/models/densenet/densenet121/20181216-152258\n",
      "/mnt/data/xray-thesis/models/densenet/densenet121/20181213-155039\n",
      "/mnt/data/xray-thesis/models/densenet/densenet121/20180429-131732\n",
      "/mnt/data/xray-thesis/models/densenet/densenet121/20180501-055454\n",
      "/mnt/data/xray-thesis/models/densenet/densenet121/20180501-120908\n",
      "/mnt/data/xray-thesis/models/densenet/densenet121/20180527-230524\n",
      "/mnt/data/xray-thesis/models/densenet/densenet121/20180531-060304\n",
      "/mnt/data/xray-thesis/models/densenet/densenet121/20181216-132418\n",
      "/mnt/data/xray-thesis/models/densenet/densenet121/20181226-131210\n",
      "/mnt/data/xray-thesis/models/densenet/densenet121/20180429-195702\n",
      "/mnt/data/xray-thesis/models/densenet/densenet121/20180525-222150\n",
      "/mnt/data/xray-thesis/models/densenet/densenet121/20181213-150455\n",
      "/mnt/data/xray-thesis/models/densenet/densenet121/20180525-172628\n",
      "/mnt/data/xray-thesis/models/densenet/densenet121/20180422-075022\n",
      "/mnt/data/xray-thesis/models/densenet/densenet121/20181213-154332\n",
      "/mnt/data/xray-thesis/models/densenet/densenet121/20180525-172420\n",
      "/mnt/data/xray-thesis/models/densenet/densenet121/20180507-160018\n",
      "/mnt/data/xray-thesis/models/densenet/densenet121/20180519-065420\n",
      "/mnt/data/xray-thesis/models/densenet/densenet121/20180501-105950\n",
      "/mnt/data/xray-thesis/models/densenet/densenet121/20181213-155451\n",
      "/mnt/data/xray-thesis/models/densenet/densenet121/20181216-152628\n",
      "/mnt/data/xray-thesis/models/densenet/densenet121/20180527-230611\n",
      "/mnt/data/xray-thesis/models/densenet/densenet121/20180509-045855\n",
      "/mnt/data/xray-thesis/models/densenet/densenet121/20181216-133130\n",
      "/mnt/data/xray-thesis/models/densenet/densenet121/20180501-055908\n",
      "/mnt/data/xray-thesis/models/densenet/densenet121/20180508-060957\n",
      "/mnt/data/xray-thesis/models/densenet/densenet121/20180430-214452\n",
      "/mnt/data/xray-thesis/models/densenet/densenet121/20180502-053438\n",
      "/mnt/data/xray-thesis/models/densenet/densenet121/20180420-092017\n",
      "/mnt/data/xray-thesis/models/densenet/densenet121/20180430-215023\n",
      "/mnt/data/xray-thesis/models/densenet/densenet121/20181213-154627\n",
      "/mnt/data/xray-thesis/models/densenet/densenet121/20180525-170454\n",
      "/mnt/data/xray-thesis/models/densenet/densenet121/20180518-163000\n",
      "/mnt/data/xray-thesis/models/densenet/densenet121/20180429-130928\n",
      "/mnt/data/xray-thesis/models/densenet/densenet121/20180526-063156\n",
      "/mnt/data/xray-thesis/models/densenet/densenet121/20180426-065637\n",
      "/mnt/data/xray-thesis/models/densenet/densenet121/20180430-162711\n",
      "/mnt/data/xray-thesis/models/densenet/densenet121/20180508-212037\n",
      "/mnt/data/xray-thesis/models/densenet/densenet121/20180525-161950\n",
      "/mnt/data/xray-thesis/models/densenet/densenet121/20181213-151703\n",
      "/mnt/data/xray-thesis/models/densenet/densenet121/20180525-170241\n",
      "/mnt/data/xray-thesis/models/densenet/densenet121/20180530-221922\n",
      "/mnt/data/xray-thesis/models/densenet/densenet121/20180525-103724\n",
      "/mnt/data/xray-thesis/models/densenet/densenet121/20180429-200210\n",
      "/mnt/data/xray-thesis/models/densenet/densenet121/20180530-221806\n",
      "/mnt/data/xray-thesis/models/densenet/densenet121/20181216-133659\n",
      "/mnt/data/xray-thesis/models/densenet/densenet121/20180518-222639\n",
      "/mnt/data/xray-thesis/models/densenet/densenet121/20180430-213936\n",
      "/mnt/data/xray-thesis/models/densenet/densenet121/20180429-200046\n",
      "/mnt/data/xray-thesis/models/densenet/densenet121/20180430-113040\n",
      "/mnt/data/xray-thesis/models/densenet/densenet121/20180530-221642\n",
      "/mnt/data/xray-thesis/models/densenet/densenet121/20180509-045911\n",
      "/mnt/data/xray-thesis/models/densenet/densenet121/20180501-120238\n",
      "/mnt/data/xray-thesis/models/densenet/densenet121/20180519-065427\n",
      "/mnt/data/xray-thesis/models/densenet/densenet121/20180501-111448\n",
      "/mnt/data/xray-thesis/models/densenet/densenet121/20181216-143634\n",
      "/mnt/data/xray-thesis/models/densenet/densenet121/20180429-131436\n",
      "/mnt/data/xray-thesis/models/densenet/densenet121/20180528-064046\n",
      "/mnt/data/xray-thesis/models/densenet/densenet121/20180519-072254\n",
      "/mnt/data/xray-thesis/models/densenet/densenet121/20181226-131938\n",
      "/mnt/data/xray-thesis/models/densenet/densenet121/20180501-110309\n",
      "/mnt/data/xray-thesis/models/densenet/densenet121/20180428-111638\n",
      "/mnt/data/xray-thesis/models/densenet/densenet121/20180427-091900\n",
      "/mnt/data/xray-thesis/models/densenet/densenet121/20181216-133605\n",
      "/mnt/data/xray-thesis/models/densenet/densenet121/20180518-231513\n",
      "/mnt/data/xray-thesis/models/densenet/densenet121/20180427-230838\n",
      "/mnt/data/xray-thesis/models/densenet/densenet121/20181213-154438\n",
      "/mnt/data/xray-thesis/models/densenet/densenet121/20180507-214402\n",
      "/mnt/data/xray-thesis/models/densenet/densenet121/20180525-152234\n",
      "/mnt/data/xray-thesis/models/densenet/densenet121/20180507-213852\n",
      "/mnt/data/xray-thesis/models/densenet/densenet121/20181216-153410\n",
      "/mnt/data/xray-thesis/models/densenet/densenet121/20180501-131748\n",
      "/mnt/data/xray-thesis/models/densenet/densenet121/20180508-212122\n",
      "/mnt/data/xray-thesis/models/densenet/densenet121/20180504-054443\n",
      "/mnt/data/xray-thesis/models/densenet/densenet121/20181226-133440\n",
      "/mnt/data/xray-thesis/models/densenet/densenet121/20180525-222635\n",
      "/mnt/data/xray-thesis/models/densenet/densenet121/20180518-155321\n"
     ]
    }
   ],
   "source": [
    "for model_dir in MODEL_PATH.iterdir():\n",
    "    print(model_dir)\n",
    "    model = model_dir/'model.path.tar'\n",
    "    backup_model = model_dir/'model.path.tar.back'\n",
    "    os.system(f'cp {model} {backup_model}')\n",
    "    checkpoint = torch.load(model)\n",
    "    modify_state_dict(checkpoint['state_dict'])\n",
    "    torch.save(checkpoint, model)"
   ]
  },
  {
   "cell_type": "markdown",
   "metadata": {},
   "source": [
    "## convert old model to new one"
   ]
  },
  {
   "cell_type": "code",
   "execution_count": null,
   "metadata": {},
   "outputs": [],
   "source": []
  }
 ],
 "metadata": {
  "kernelspec": {
   "display_name": "Python 3",
   "language": "python",
   "name": "python3"
  },
  "language_info": {
   "codemirror_mode": {
    "name": "ipython",
    "version": 3
   },
   "file_extension": ".py",
   "mimetype": "text/x-python",
   "name": "python",
   "nbconvert_exporter": "python",
   "pygments_lexer": "ipython3",
   "version": "3.7.0"
  }
 },
 "nbformat": 4,
 "nbformat_minor": 2
}
