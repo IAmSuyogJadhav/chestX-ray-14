{
 "cells": [
  {
   "cell_type": "code",
   "execution_count": 1,
   "metadata": {},
   "outputs": [],
   "source": [
    "%matplotlib inline\n",
    "%reload_ext autoreload\n",
    "%autoreload 2"
   ]
  },
  {
   "cell_type": "markdown",
   "metadata": {},
   "source": [
    "# Train attention model"
   ]
  },
  {
   "cell_type": "code",
   "execution_count": 2,
   "metadata": {},
   "outputs": [],
   "source": [
    "from fastai.conv_learner import *\n",
    "# import pixiedust\n",
    "from matplotlib.patches import Rectangle\n",
    "from datetime import datetime\n",
    "import pandas as pd\n",
    "\n",
    "import torch\n",
    "from layers import *\n",
    "from constant import CLASS_NAMES\n",
    "from transform import chest_xray_transfrom\n",
    "from metrics import *\n",
    "import pretrainedmodels\n",
    "from recorder import TrainingRecoder\n",
    "import pretrainedmodels\n",
    "from dataset import ChestXray14Dataset\n",
    "from model_data import ModelData\n",
    "from chexnet import ChexNet\n",
    "from utils import get_chestxray_from_csv"
   ]
  },
  {
   "cell_type": "code",
   "execution_count": 3,
   "metadata": {},
   "outputs": [
    {
     "name": "stdout",
     "output_type": "stream",
     "text": [
      "Model name 20190204-224709\n"
     ]
    }
   ],
   "source": [
    "PATH = Path('/home/dattran/data/xray-thesis/chestX-ray14')\n",
    "IMAGE_DN = 'tmp/attention'\n",
    "TRAIN_CSV = 'train.csv'\n",
    "VAL_CSV = 'val.csv'\n",
    "TEST_CSV = 'test.csv'\n",
    "\n",
    "percentage = 1\n",
    "WORKERS = 6\n",
    "\n",
    "N_CLASSES = 14\n",
    "models_name = datetime.strftime(datetime.now(), '%Y%m%d-%H%M%S')\n",
    "\n",
    "model_path = PATH/'models'/models_name\n",
    "model_path.mkdir(parents=True, exist_ok=True)\n",
    "print('Model name', models_name)"
   ]
  },
  {
   "cell_type": "code",
   "execution_count": 4,
   "metadata": {},
   "outputs": [],
   "source": [
    "# the model we use not include sigmoid as last layer\n",
    "def acc_s(preds, targs):\n",
    "    return accuracy_multi(torch.sigmoid(preds), targs, 0.5)\n",
    "\n",
    "def auc_s(preds, targs):\n",
    "    return auc(torch.sigmoid(preds), targs)"
   ]
  },
  {
   "cell_type": "markdown",
   "metadata": {},
   "source": [
    "## Load dataset"
   ]
  },
  {
   "cell_type": "code",
   "execution_count": 6,
   "metadata": {},
   "outputs": [],
   "source": [
    "def get_chestxray_from_csv():\n",
    "    result = []\n",
    "    for f in [PATH/TRAIN_CSV, PATH/VAL_CSV, PATH/TEST_CSV]:\n",
    "        df = pd.read_csv(f, sep=' ', header=None)\n",
    "        images = df.iloc[:, 0].values\n",
    "        labels = df.iloc[:, 1:].values\n",
    "        result.append((images, labels))\n",
    "    return result\n",
    "\n",
    "def get_md(sz, bs, percentage):\n",
    "    data = get_chestxray_from_csv()\n",
    "    tfms = chest_xray_transfrom(sz, 0.875)\n",
    "    datasets = ImageData.get_ds(ChestXray14Dataset, trn=data[0], val=data[1], test=data[2], tfms=tfms, path=PATH/IMAGE_DN, size=sz, percentage=percentage)\n",
    "    md = ModelData(PATH/IMAGE_DN, datasets, bs, WORKERS, CLASS_NAMES)\n",
    "    return md\n",
    "\n",
    "md = get_md(224, 128, percentage)"
   ]
  },
  {
   "cell_type": "markdown",
   "metadata": {},
   "source": [
    "## Densenet121 arch with binary classification"
   ]
  },
  {
   "cell_type": "code",
   "execution_count": 8,
   "metadata": {
    "pixiedust": {
     "displayParams": {}
    }
   },
   "outputs": [],
   "source": [
    "class CheXNetModel():\n",
    "    \n",
    "    def __init__(self, chexnet):\n",
    "        self.model = chexnet\n",
    "    \n",
    "    def get_layer_groups(self, precompute):\n",
    "        lgs = list(split_by_idxs(children(self.model.backbone), [8]))\n",
    "        lgs += [children(self.model.head)]\n",
    "        return lgs\n",
    "\n",
    "chexnet = to_gpu(ChexNet(model_name='20180429-130928')) # use chexnet as pretrain model\n",
    "chexnet_model = CheXNetModel(chexnet)\n",
    "learn = ConvLearner(md, chexnet_model, models_name=model_path) # train in mixed percision\n",
    "# learn.crit = WeightedBCEWithLogitsLoss()\n",
    "learn.crit = nn.BCEWithLogitsLoss()"
   ]
  },
  {
   "cell_type": "code",
   "execution_count": null,
   "metadata": {},
   "outputs": [],
   "source": []
  },
  {
   "cell_type": "code",
   "execution_count": null,
   "metadata": {},
   "outputs": [],
   "source": []
  },
  {
   "cell_type": "code",
   "execution_count": null,
   "metadata": {},
   "outputs": [],
   "source": []
  },
  {
   "cell_type": "code",
   "execution_count": null,
   "metadata": {},
   "outputs": [],
   "source": [
    "### Warning ###"
   ]
  },
  {
   "cell_type": "markdown",
   "metadata": {},
   "source": [
    "# Find lr for last layer groups"
   ]
  },
  {
   "cell_type": "code",
   "execution_count": 7,
   "metadata": {},
   "outputs": [
    {
     "data": {
      "application/vnd.jupyter.widget-view+json": {
       "model_id": "d7d76272768c42efad919c4493575710",
       "version_major": 2,
       "version_minor": 0
      },
      "text/plain": [
       "HBox(children=(IntProgress(value=0, description='Epoch', max=1, style=ProgressStyle(description_width='initial…"
      ]
     },
     "metadata": {},
     "output_type": "display_data"
    },
    {
     "data": {
      "application/vnd.jupyter.widget-view+json": {
       "model_id": "d7d76272768c42efad919c4493575710",
       "version_major": 2,
       "version_minor": 0
      },
      "text/plain": [
       "HBox(children=(IntProgress(value=0, description='Epoch', max=1, style=ProgressStyle(description_width='initial…"
      ]
     },
     "metadata": {},
     "output_type": "display_data"
    },
    {
     "name": "stdout",
     "output_type": "stream",
     "text": [
      "epoch      trn_loss   val_loss                               \n",
      "    0      0.614568   2.582748  \n",
      "\n",
      "epoch      trn_loss   val_loss   \n",
      "    0      0.614568   2.582748  \n",
      "\n"
     ]
    }
   ],
   "source": [
    "# learn.lr_find()"
   ]
  },
  {
   "cell_type": "code",
   "execution_count": 8,
   "metadata": {
    "scrolled": false
   },
   "outputs": [
    {
     "data": {
      "image/png": "[encoded data removed]",
      "text/plain": [
       "<Figure size 432x288 with 1 Axes>"
      ]
     },
     "metadata": {
      "needs_background": "light"
     },
     "output_type": "display_data"
    },
    {
     "data": {
      "image/png": "[encoded data removed]",
      "text/plain": [
       "<Figure size 432x288 with 1 Axes>"
      ]
     },
     "metadata": {
      "needs_background": "light"
     },
     "output_type": "display_data"
    }
   ],
   "source": [
    "# learn.sched.plot(0, 0)"
   ]
  },
  {
   "cell_type": "markdown",
   "metadata": {},
   "source": [
    "# Lr find for all layer group"
   ]
  },
  {
   "cell_type": "code",
   "execution_count": 9,
   "metadata": {},
   "outputs": [
    {
     "data": {
      "application/vnd.jupyter.widget-view+json": {
       "model_id": "c8c2f8cfccf443d099f316f51681b214",
       "version_major": 2,
       "version_minor": 0
      },
      "text/plain": [
       "HBox(children=(IntProgress(value=0, description='Epoch', max=1, style=ProgressStyle(description_width='initial…"
      ]
     },
     "metadata": {},
     "output_type": "display_data"
    },
    {
     "data": {
      "application/vnd.jupyter.widget-view+json": {
       "model_id": "c8c2f8cfccf443d099f316f51681b214",
       "version_major": 2,
       "version_minor": 0
      },
      "text/plain": [
       "HBox(children=(IntProgress(value=0, description='Epoch', max=1, style=ProgressStyle(description_width='initial…"
      ]
     },
     "metadata": {},
     "output_type": "display_data"
    },
    {
     "name": "stdout",
     "output_type": "stream",
     "text": [
      "epoch      trn_loss   val_loss                                 \n",
      "    0      0.196268   0.261272  \n",
      "\n",
      "epoch      trn_loss   val_loss   \n",
      "    0      0.196268   0.261272  \n",
      "\n"
     ]
    }
   ],
   "source": [
    "# md = get_md(224, 16, percentage)\n",
    "# learn.set_data(md)\n",
    "# learn.unfreeze()\n",
    "# learn.lr_find()"
   ]
  },
  {
   "cell_type": "code",
   "execution_count": 10,
   "metadata": {
    "scrolled": true
   },
   "outputs": [
    {
     "data": {
      "image/png": "[encoded data removed]",
      "text/plain": [
       "<Figure size 432x288 with 1 Axes>"
      ]
     },
     "metadata": {
      "needs_background": "light"
     },
     "output_type": "display_data"
    },
    {
     "data": {
      "image/png": "[encoded data removed]",
      "text/plain": [
       "<Figure size 432x288 with 1 Axes>"
      ]
     },
     "metadata": {
      "needs_background": "light"
     },
     "output_type": "display_data"
    }
   ],
   "source": [
    "# learn.sched.plot(0, 0)"
   ]
  },
  {
   "cell_type": "markdown",
   "metadata": {},
   "source": [
    "# Training"
   ]
  },
  {
   "cell_type": "code",
   "execution_count": 15,
   "metadata": {
    "scrolled": false
   },
   "outputs": [],
   "source": [
    "def train_last_layer(learn, loss_recorder, n_cycle, lr=1e-4):\n",
    "    print(f'Train last layer group with {n_cycle} cycle, lr={lr}')\n",
    "    learn.freeze_to(-1)\n",
    "    md = get_md(224, 128, percentage)\n",
    "    learn.set_data(md)\n",
    "    layer_opt = learn.get_layer_opt(lr, None)\n",
    "    loss_recorder.new_phase(layer_opt)\n",
    "    learn.sched = None\n",
    "    learn.fit_gen(learn.model, learn.data, layer_opt, n_cycle, \\\n",
    "                  metrics=[auc_s, acc_s], cycle_len=1, use_clr=(8, 10), \\\n",
    "                  callbacks=[loss_recorder], best_save_name='best')\n",
    "    \n",
    "def train_all_layer(learn, loss_recorder, n_cycle, lr=8e-3):\n",
    "    print(f'Train every groups with {n_cycle} cycle, lr={lr}')\n",
    "    lrs = [lr/1000, lr/100, lr]\n",
    "    learn.unfreeze()\n",
    "    md = get_md(224, 64, percentage)\n",
    "    learn.set_data(md)\n",
    "    layer_opt = learn.get_layer_opt(lrs, None)\n",
    "    loss_recorder.new_phase(layer_opt)\n",
    "    learn.sched = None\n",
    "    learn.fit_gen(learn.model, learn.data, layer_opt, n_cycle, \\\n",
    "                  metrics=[auc_s, acc_s], cycle_len=1, use_clr=(8, 10), \\\n",
    "                  callbacks=[loss_recorder], best_save_name='best')\n"
   ]
  },
  {
   "cell_type": "code",
   "execution_count": 8,
   "metadata": {},
   "outputs": [
    {
     "name": "stdout",
     "output_type": "stream",
     "text": [
      "Train last layer group with 1 cycle, lr=0.0001\n"
     ]
    },
    {
     "data": {
      "application/vnd.jupyter.widget-view+json": {
       "model_id": "e66d8212167941a493c4655c7d917611",
       "version_major": 2,
       "version_minor": 0
      },
      "text/plain": [
       "HBox(children=(IntProgress(value=0, description='Epoch', max=1, style=ProgressStyle(description_width='initial…"
      ]
     },
     "metadata": {},
     "output_type": "display_data"
    },
    {
     "name": "stdout",
     "output_type": "stream",
     "text": [
      "14                                                         \n",
      "epoch      trn_loss   val_loss   auc_s      acc_s      \n",
      "    0      0.57349    0.53969    0.496944   0.83516   \n",
      "\n",
      "Train every groups with 1 cycle, lr=0.0001\n"
     ]
    },
    {
     "data": {
      "application/vnd.jupyter.widget-view+json": {
       "model_id": "4fca4925e04746279adb9cb3a40da320",
       "version_major": 2,
       "version_minor": 0
      },
      "text/plain": [
       "HBox(children=(IntProgress(value=0, description='Epoch', max=1, style=ProgressStyle(description_width='initial…"
      ]
     },
     "metadata": {},
     "output_type": "display_data"
    },
    {
     "name": "stdout",
     "output_type": "stream",
     "text": [
      "14                                                           \n",
      "epoch      trn_loss   val_loss   auc_s      acc_s      \n",
      "    0      0.390087   0.36522    0.499788   0.952976  \n",
      "\n"
     ]
    }
   ],
   "source": [
    "loss_recorder = TrainingRecoder(model_path)\n",
    "train_last_layer(learn, loss_recorder, 50, lr=2e-3)\n",
    "train_all_layer(learn, loss_recorder, 50, lr=1e-4)\n",
    "loss_recorder.save()"
   ]
  },
  {
   "cell_type": "code",
   "execution_count": 11,
   "metadata": {},
   "outputs": [
    {
     "name": "stdout",
     "output_type": "stream",
     "text": [
      "Test\n",
      "Test\n",
      "0.775233589778711                            \n",
      "0.775233589778711\n"
     ]
    }
   ],
   "source": [
    "def sigmoid_np(x):\n",
    "    return 1. / (1. + np.exp(-x))\n",
    "\n",
    "py, y = learn.TTA()\n",
    "print(auc_np(sigmoid_np(np.mean(py, axis=0)), y))"
   ]
  },
  {
   "cell_type": "code",
   "execution_count": null,
   "metadata": {},
   "outputs": [],
   "source": []
  }
 ],
 "metadata": {
  "kernelspec": {
   "display_name": "Python 3",
   "language": "python",
   "name": "python3"
  },
  "language_info": {
   "codemirror_mode": {
    "name": "ipython",
    "version": 3
   },
   "file_extension": ".py",
   "mimetype": "text/x-python",
   "name": "python",
   "nbconvert_exporter": "python",
   "pygments_lexer": "ipython3",
   "version": "3.7.0"
  }
 },
 "nbformat": 4,
 "nbformat_minor": 2
}
